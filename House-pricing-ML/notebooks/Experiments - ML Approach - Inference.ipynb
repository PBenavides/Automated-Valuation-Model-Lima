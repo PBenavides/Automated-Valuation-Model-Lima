{
 "cells": [
  {
   "cell_type": "markdown",
   "id": "developing-warrant",
   "metadata": {},
   "source": [
    "##### About the required outputs"
   ]
  },
  {
   "cell_type": "code",
   "execution_count": 1,
   "id": "homeless-research",
   "metadata": {},
   "outputs": [],
   "source": [
    "import pandas as pd\n",
    "import numpy as np\n",
    "import matplotlib.pyplot as plt\n",
    "import warnings\n",
    "import pickle\n",
    "import joblib\n",
    "\n",
    "from preprocessing_ml.scripts import make_training_dataframe\n",
    "\n",
    "data = pd.read_csv('../input/preprocess_data/to_train.csv', index_col=['Unnamed: 0'])\n",
    "data.drop(['Tasa hipotecaria Trimestral'],axis=1,inplace=True)\n",
    "\n",
    "#From Model Selection insights:\n",
    "to_replace_11 = data[data['Piso de ubicación'] > 10].index\n",
    "data.loc[to_replace_11,'Piso de ubicación'] = 11\n",
    "to_drop = data[data['Superficie '] >= data['Superficie '].quantile(.99)].index\n",
    "data.drop(to_drop, axis=0,inplace=True)\n",
    "\n",
    "### Get dummies variables.\n",
    "data = pd.get_dummies(data, columns=['antiguedad_cat','piso_cat'],drop_first=True)\n",
    "\n",
    "#To decode Districts:\n",
    "\n",
    "with open('../models/objects/dict_encoders.pickle','rb') as handle:\n",
    "    dict_encoders = pickle.load(handle)"
   ]
  },
  {
   "cell_type": "markdown",
   "id": "above-cartridge",
   "metadata": {},
   "source": [
    "### Inference"
   ]
  },
  {
   "cell_type": "code",
   "execution_count": 111,
   "id": "positive-lyric",
   "metadata": {},
   "outputs": [],
   "source": [
    "w_s = 74  #In order to get the last 5 periods for train and test.\n",
    "warnings.filterwarnings('ignore')\n",
    "train_data, test_data, testing_dates = make_training_dataframe(data, window_size=74)\n",
    "\n",
    "lr = LinearRegression(fit_intercept=True, normalize=True)\n",
    "lr.fit(train_data.drop('target',axis=1), train_data['target'])\n",
    "\n",
    "predictions = lr.predict(test_data.drop('target',axis=1))\n",
    "\n",
    "to_summit = pd.DataFrame({'District': dict_encoders['Distrito'].inverse_transform(test_data['Distrito'].astype(int)),\n",
    "                          'Predicted_price_m2':np.exp(predictions),\n",
    "                          'PCA_comp':test_data['PCA_comp'],\n",
    "                          'Last_price_m2':np.exp(test_data['LAG_1'])})"
   ]
  },
  {
   "cell_type": "code",
   "execution_count": 120,
   "id": "bacterial-leisure",
   "metadata": {},
   "outputs": [
    {
     "name": "stdout",
     "output_type": "stream",
     "text": [
      "For 2019-01-01\n"
     ]
    },
    {
     "data": {
      "text/html": [
       "<div>\n",
       "<style scoped>\n",
       "    .dataframe tbody tr th:only-of-type {\n",
       "        vertical-align: middle;\n",
       "    }\n",
       "\n",
       "    .dataframe tbody tr th {\n",
       "        vertical-align: top;\n",
       "    }\n",
       "\n",
       "    .dataframe thead th {\n",
       "        text-align: right;\n",
       "    }\n",
       "</style>\n",
       "<table border=\"1\" class=\"dataframe\">\n",
       "  <thead>\n",
       "    <tr style=\"text-align: right;\">\n",
       "      <th></th>\n",
       "      <th>Predicted_price_m2</th>\n",
       "      <th>Last_price_m2</th>\n",
       "      <th>pct_change</th>\n",
       "    </tr>\n",
       "    <tr>\n",
       "      <th>District</th>\n",
       "      <th></th>\n",
       "      <th></th>\n",
       "      <th></th>\n",
       "    </tr>\n",
       "  </thead>\n",
       "  <tbody>\n",
       "    <tr>\n",
       "      <th>barranco</th>\n",
       "      <td>4994.235866</td>\n",
       "      <td>5363.235806</td>\n",
       "      <td>-6.880174</td>\n",
       "    </tr>\n",
       "    <tr>\n",
       "      <th>san isidro</th>\n",
       "      <td>5631.476701</td>\n",
       "      <td>5999.528048</td>\n",
       "      <td>-6.134672</td>\n",
       "    </tr>\n",
       "    <tr>\n",
       "      <th>miraflores</th>\n",
       "      <td>5576.229188</td>\n",
       "      <td>5738.893843</td>\n",
       "      <td>-2.834425</td>\n",
       "    </tr>\n",
       "    <tr>\n",
       "      <th>lince</th>\n",
       "      <td>4180.363838</td>\n",
       "      <td>4271.554832</td>\n",
       "      <td>-2.134843</td>\n",
       "    </tr>\n",
       "    <tr>\n",
       "      <th>pueblo libre</th>\n",
       "      <td>3763.211912</td>\n",
       "      <td>3818.904044</td>\n",
       "      <td>-1.458328</td>\n",
       "    </tr>\n",
       "    <tr>\n",
       "      <th>surco</th>\n",
       "      <td>4328.648810</td>\n",
       "      <td>4354.479117</td>\n",
       "      <td>-0.593189</td>\n",
       "    </tr>\n",
       "    <tr>\n",
       "      <th>la molina</th>\n",
       "      <td>3766.630618</td>\n",
       "      <td>3769.152675</td>\n",
       "      <td>-0.066913</td>\n",
       "    </tr>\n",
       "    <tr>\n",
       "      <th>magdalena</th>\n",
       "      <td>4139.923701</td>\n",
       "      <td>4114.178464</td>\n",
       "      <td>0.625769</td>\n",
       "    </tr>\n",
       "    <tr>\n",
       "      <th>jesús maría</th>\n",
       "      <td>4113.294865</td>\n",
       "      <td>4081.882565</td>\n",
       "      <td>0.769554</td>\n",
       "    </tr>\n",
       "    <tr>\n",
       "      <th>san borja</th>\n",
       "      <td>4699.471956</td>\n",
       "      <td>4558.224461</td>\n",
       "      <td>3.098739</td>\n",
       "    </tr>\n",
       "    <tr>\n",
       "      <th>san miguel</th>\n",
       "      <td>3588.560875</td>\n",
       "      <td>3424.812469</td>\n",
       "      <td>4.781237</td>\n",
       "    </tr>\n",
       "  </tbody>\n",
       "</table>\n",
       "</div>"
      ],
      "text/plain": [
       "              Predicted_price_m2  Last_price_m2  pct_change\n",
       "District                                                   \n",
       "barranco             4994.235866    5363.235806   -6.880174\n",
       "san isidro           5631.476701    5999.528048   -6.134672\n",
       "miraflores           5576.229188    5738.893843   -2.834425\n",
       "lince                4180.363838    4271.554832   -2.134843\n",
       "pueblo libre         3763.211912    3818.904044   -1.458328\n",
       "surco                4328.648810    4354.479117   -0.593189\n",
       "la molina            3766.630618    3769.152675   -0.066913\n",
       "magdalena            4139.923701    4114.178464    0.625769\n",
       "jesús maría          4113.294865    4081.882565    0.769554\n",
       "san borja            4699.471956    4558.224461    3.098739\n",
       "san miguel           3588.560875    3424.812469    4.781237"
      ]
     },
     "execution_count": 120,
     "metadata": {},
     "output_type": "execute_result"
    }
   ],
   "source": [
    "#Extra_table\n",
    "print('For {}'.format(testing_dates))\n",
    "extra_table = to_summit.groupby('District')[['Predicted_price_m2','Last_price_m2']].agg('mean')\n",
    "extra_table['pct_change'] = 100*(extra_table['Predicted_price_m2'] - extra_table['Last_price_m2']) / extra_table['Last_price_m2']\n",
    "extra_table.sort_values('pct_change')"
   ]
  },
  {
   "cell_type": "markdown",
   "id": "manufactured-third",
   "metadata": {},
   "source": [
    "##### Saving model and output data"
   ]
  },
  {
   "cell_type": "code",
   "execution_count": 129,
   "id": "secure-desktop",
   "metadata": {},
   "outputs": [
    {
     "data": {
      "text/plain": [
       "['../models/Time_series_lr.bin']"
      ]
     },
     "execution_count": 129,
     "metadata": {},
     "output_type": "execute_result"
    }
   ],
   "source": [
    "import os \n",
    "\n",
    "joblib.dump(lr,\n",
    "           \"../models/\"+\"Time_series_lr.bin\")"
   ]
  },
  {
   "cell_type": "code",
   "execution_count": 131,
   "id": "radio-illinois",
   "metadata": {},
   "outputs": [],
   "source": [
    "to_summit.to_csv('../outputs/forecasting-2019-01.csv', index=False)"
   ]
  },
  {
   "cell_type": "code",
   "execution_count": 134,
   "id": "formal-sending",
   "metadata": {},
   "outputs": [],
   "source": [
    "extra_table.to_csv('../outputs/extra_table-2019-01.csv')"
   ]
  }
 ],
 "metadata": {
  "kernelspec": {
   "display_name": "Python 3",
   "language": "python",
   "name": "python3"
  },
  "language_info": {
   "codemirror_mode": {
    "name": "ipython",
    "version": 3
   },
   "file_extension": ".py",
   "mimetype": "text/x-python",
   "name": "python",
   "nbconvert_exporter": "python",
   "pygments_lexer": "ipython3",
   "version": "3.7.7"
  }
 },
 "nbformat": 4,
 "nbformat_minor": 5
}
