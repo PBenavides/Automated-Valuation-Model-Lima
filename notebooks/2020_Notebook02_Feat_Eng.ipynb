{
 "cells": [
  {
   "cell_type": "markdown",
   "metadata": {},
   "source": [
    "#### Feature Engineering & Encoding.\n",
    "\n",
    "This notebooks is about pre-processing and feature engineering, we will create artifacts in order to deploy our model from the calculations made here. This will serve us to create also our pipelines.\n",
    "\n",
    "**Regular Feature Engineering tasks:** \n",
    "\n",
    "- Geohashes. **DONE**\n",
    "\n",
    "- Difference between area total y area construida. **DONE**\n",
    "- Small differences between our mean district area's  **DONE**\n",
    "\n",
    "\n",
    "**Spatial Feature Engineering tasks:**\n",
    "\n",
    "- Point of interest features **DONE**\n",
    "- Distance Bands **DONE**\n",
    "- GeoClustering\n",
    "\n",
    "**Encodings**\n",
    "\n",
    "**Correlations**"
   ]
  },
  {
   "cell_type": "code",
   "execution_count": 6,
   "metadata": {},
   "outputs": [],
   "source": [
    "import pandas as pd\n",
    "import numpy as np\n",
    "import seaborn as sns\n",
    "import geohash2 as gh #pip install geohash2\n",
    "import gc\n",
    "\n",
    "lima_data = pd.read_csv('../data/2020_Notebook01_clean_data.csv')\n",
    "lima_data.describe()\n",
    "\n",
    "#The coordinates were scraped without the -1\n",
    "lima_data['latitud'] = lima_data['latitud']*-1\n",
    "lima_data['longitud'] = lima_data['longitud']*-1"
   ]
  },
  {
   "cell_type": "markdown",
   "metadata": {},
   "source": [
    "#### Feature Engineering"
   ]
  },
  {
   "cell_type": "code",
   "execution_count": 7,
   "metadata": {},
   "outputs": [],
   "source": [
    "lima_data['areas_diff'] = lima_data['Area_total'] - lima_data['Area_constr']"
   ]
  },
  {
   "cell_type": "code",
   "execution_count": 8,
   "metadata": {},
   "outputs": [],
   "source": [
    "lima_data['areas_proporcion'] = lima_data['Area_total']/lima_data['Area_constr']"
   ]
  },
  {
   "cell_type": "code",
   "execution_count": 9,
   "metadata": {},
   "outputs": [],
   "source": [
    "drop_prop = lima_data[lima_data['areas_proporcion'] >= 4.0].index\n",
    "lima_data.drop(drop_prop, inplace=True)"
   ]
  },
  {
   "cell_type": "code",
   "execution_count": 10,
   "metadata": {},
   "outputs": [],
   "source": [
    "#This is as proxy to detect outliers, but it's not all the outlier processing \n",
    "tmp_table = lima_data.groupby('Barrio', as_index=False)['Area_total'].mean()\n",
    "tmp_table = pd.merge(tmp_table, lima_data, on=['Barrio'], how='inner', suffixes=('_TMP','_ORIGIN'))\n",
    "lima_data['diff_total_mean_district'] = tmp_table['Area_total_ORIGIN'] - tmp_table['Area_total_TMP']"
   ]
  },
  {
   "cell_type": "code",
   "execution_count": 11,
   "metadata": {},
   "outputs": [
    {
     "data": {
      "text/html": [
       "<div>\n",
       "<style scoped>\n",
       "    .dataframe tbody tr th:only-of-type {\n",
       "        vertical-align: middle;\n",
       "    }\n",
       "\n",
       "    .dataframe tbody tr th {\n",
       "        vertical-align: top;\n",
       "    }\n",
       "\n",
       "    .dataframe thead th {\n",
       "        text-align: right;\n",
       "    }\n",
       "</style>\n",
       "<table border=\"1\" class=\"dataframe\">\n",
       "  <thead>\n",
       "    <tr style=\"text-align: right;\">\n",
       "      <th></th>\n",
       "      <th>latitud</th>\n",
       "      <th>longitud</th>\n",
       "      <th>Precio</th>\n",
       "      <th>Area_total</th>\n",
       "      <th>Area_constr</th>\n",
       "      <th>Precio_m2_total</th>\n",
       "      <th>Precio_m2_constr</th>\n",
       "      <th>Area_constr_cat</th>\n",
       "      <th>NroBanios</th>\n",
       "      <th>Dormitorios</th>\n",
       "      <th>Antiguedad</th>\n",
       "      <th>Cocheras</th>\n",
       "      <th>areas_diff</th>\n",
       "      <th>areas_proporcion</th>\n",
       "      <th>diff_total_mean_district</th>\n",
       "    </tr>\n",
       "  </thead>\n",
       "  <tbody>\n",
       "    <tr>\n",
       "      <th>count</th>\n",
       "      <td>5231.000000</td>\n",
       "      <td>5231.000000</td>\n",
       "      <td>5.231000e+03</td>\n",
       "      <td>5231.000000</td>\n",
       "      <td>5231.000000</td>\n",
       "      <td>5231.000000</td>\n",
       "      <td>5231.000000</td>\n",
       "      <td>5231.000000</td>\n",
       "      <td>5231.000000</td>\n",
       "      <td>5231.000000</td>\n",
       "      <td>5231.000000</td>\n",
       "      <td>5231.000000</td>\n",
       "      <td>5231.000000</td>\n",
       "      <td>5231.000000</td>\n",
       "      <td>5076.000000</td>\n",
       "    </tr>\n",
       "    <tr>\n",
       "      <th>mean</th>\n",
       "      <td>-12.131348</td>\n",
       "      <td>-76.952278</td>\n",
       "      <td>2.652624e+06</td>\n",
       "      <td>474.113554</td>\n",
       "      <td>341.923724</td>\n",
       "      <td>6117.251223</td>\n",
       "      <td>7399.449532</td>\n",
       "      <td>9.663735</td>\n",
       "      <td>3.661250</td>\n",
       "      <td>4.410820</td>\n",
       "      <td>24.255783</td>\n",
       "      <td>2.672338</td>\n",
       "      <td>132.189830</td>\n",
       "      <td>1.352777</td>\n",
       "      <td>-0.262416</td>\n",
       "    </tr>\n",
       "    <tr>\n",
       "      <th>std</th>\n",
       "      <td>0.618621</td>\n",
       "      <td>0.445843</td>\n",
       "      <td>2.038581e+06</td>\n",
       "      <td>367.149884</td>\n",
       "      <td>165.449486</td>\n",
       "      <td>3518.636205</td>\n",
       "      <td>3876.101999</td>\n",
       "      <td>5.692226</td>\n",
       "      <td>0.967911</td>\n",
       "      <td>1.135062</td>\n",
       "      <td>9.977640</td>\n",
       "      <td>1.071479</td>\n",
       "      <td>279.731276</td>\n",
       "      <td>0.662417</td>\n",
       "      <td>318.714318</td>\n",
       "    </tr>\n",
       "    <tr>\n",
       "      <th>min</th>\n",
       "      <td>-53.163383</td>\n",
       "      <td>-79.221148</td>\n",
       "      <td>6.800000e+04</td>\n",
       "      <td>40.000000</td>\n",
       "      <td>31.000000</td>\n",
       "      <td>21.200000</td>\n",
       "      <td>23.555556</td>\n",
       "      <td>0.000000</td>\n",
       "      <td>1.000000</td>\n",
       "      <td>1.000000</td>\n",
       "      <td>1.000000</td>\n",
       "      <td>1.000000</td>\n",
       "      <td>-520.000000</td>\n",
       "      <td>0.171875</td>\n",
       "      <td>-629.233466</td>\n",
       "    </tr>\n",
       "    <tr>\n",
       "      <th>25%</th>\n",
       "      <td>-12.119827</td>\n",
       "      <td>-77.020543</td>\n",
       "      <td>1.225000e+06</td>\n",
       "      <td>238.000000</td>\n",
       "      <td>224.000000</td>\n",
       "      <td>3937.500000</td>\n",
       "      <td>5026.620224</td>\n",
       "      <td>5.000000</td>\n",
       "      <td>3.000000</td>\n",
       "      <td>4.000000</td>\n",
       "      <td>17.000000</td>\n",
       "      <td>2.000000</td>\n",
       "      <td>0.000000</td>\n",
       "      <td>1.000000</td>\n",
       "      <td>-181.273584</td>\n",
       "    </tr>\n",
       "    <tr>\n",
       "      <th>50%</th>\n",
       "      <td>-12.092327</td>\n",
       "      <td>-76.975682</td>\n",
       "      <td>2.158000e+06</td>\n",
       "      <td>340.000000</td>\n",
       "      <td>318.000000</td>\n",
       "      <td>5569.892473</td>\n",
       "      <td>6796.988270</td>\n",
       "      <td>10.000000</td>\n",
       "      <td>4.000000</td>\n",
       "      <td>4.000000</td>\n",
       "      <td>22.000000</td>\n",
       "      <td>2.000000</td>\n",
       "      <td>1.000000</td>\n",
       "      <td>1.003571</td>\n",
       "      <td>-56.428125</td>\n",
       "    </tr>\n",
       "    <tr>\n",
       "      <th>75%</th>\n",
       "      <td>-12.077283</td>\n",
       "      <td>-76.926842</td>\n",
       "      <td>3.430000e+06</td>\n",
       "      <td>595.000000</td>\n",
       "      <td>421.000000</td>\n",
       "      <td>7328.070476</td>\n",
       "      <td>8955.208128</td>\n",
       "      <td>14.000000</td>\n",
       "      <td>4.000000</td>\n",
       "      <td>5.000000</td>\n",
       "      <td>30.000000</td>\n",
       "      <td>3.000000</td>\n",
       "      <td>175.000000</td>\n",
       "      <td>1.581818</td>\n",
       "      <td>104.611538</td>\n",
       "    </tr>\n",
       "    <tr>\n",
       "      <th>max</th>\n",
       "      <td>-7.888933</td>\n",
       "      <td>-47.920490</td>\n",
       "      <td>1.225000e+07</td>\n",
       "      <td>2657.000000</td>\n",
       "      <td>1010.000000</td>\n",
       "      <td>55168.035000</td>\n",
       "      <td>81065.573770</td>\n",
       "      <td>19.000000</td>\n",
       "      <td>20.000000</td>\n",
       "      <td>20.000000</td>\n",
       "      <td>65.000000</td>\n",
       "      <td>6.000000</td>\n",
       "      <td>1937.000000</td>\n",
       "      <td>3.975000</td>\n",
       "      <td>2184.611538</td>\n",
       "    </tr>\n",
       "  </tbody>\n",
       "</table>\n",
       "</div>"
      ],
      "text/plain": [
       "           latitud     longitud        Precio   Area_total  Area_constr  \\\n",
       "count  5231.000000  5231.000000  5.231000e+03  5231.000000  5231.000000   \n",
       "mean    -12.131348   -76.952278  2.652624e+06   474.113554   341.923724   \n",
       "std       0.618621     0.445843  2.038581e+06   367.149884   165.449486   \n",
       "min     -53.163383   -79.221148  6.800000e+04    40.000000    31.000000   \n",
       "25%     -12.119827   -77.020543  1.225000e+06   238.000000   224.000000   \n",
       "50%     -12.092327   -76.975682  2.158000e+06   340.000000   318.000000   \n",
       "75%     -12.077283   -76.926842  3.430000e+06   595.000000   421.000000   \n",
       "max      -7.888933   -47.920490  1.225000e+07  2657.000000  1010.000000   \n",
       "\n",
       "       Precio_m2_total  Precio_m2_constr  Area_constr_cat    NroBanios  \\\n",
       "count      5231.000000       5231.000000      5231.000000  5231.000000   \n",
       "mean       6117.251223       7399.449532         9.663735     3.661250   \n",
       "std        3518.636205       3876.101999         5.692226     0.967911   \n",
       "min          21.200000         23.555556         0.000000     1.000000   \n",
       "25%        3937.500000       5026.620224         5.000000     3.000000   \n",
       "50%        5569.892473       6796.988270        10.000000     4.000000   \n",
       "75%        7328.070476       8955.208128        14.000000     4.000000   \n",
       "max       55168.035000      81065.573770        19.000000    20.000000   \n",
       "\n",
       "       Dormitorios   Antiguedad     Cocheras   areas_diff  areas_proporcion  \\\n",
       "count  5231.000000  5231.000000  5231.000000  5231.000000       5231.000000   \n",
       "mean      4.410820    24.255783     2.672338   132.189830          1.352777   \n",
       "std       1.135062     9.977640     1.071479   279.731276          0.662417   \n",
       "min       1.000000     1.000000     1.000000  -520.000000          0.171875   \n",
       "25%       4.000000    17.000000     2.000000     0.000000          1.000000   \n",
       "50%       4.000000    22.000000     2.000000     1.000000          1.003571   \n",
       "75%       5.000000    30.000000     3.000000   175.000000          1.581818   \n",
       "max      20.000000    65.000000     6.000000  1937.000000          3.975000   \n",
       "\n",
       "       diff_total_mean_district  \n",
       "count               5076.000000  \n",
       "mean                  -0.262416  \n",
       "std                  318.714318  \n",
       "min                 -629.233466  \n",
       "25%                 -181.273584  \n",
       "50%                  -56.428125  \n",
       "75%                  104.611538  \n",
       "max                 2184.611538  "
      ]
     },
     "execution_count": 11,
     "metadata": {},
     "output_type": "execute_result"
    }
   ],
   "source": [
    "lima_data.describe()"
   ]
  },
  {
   "cell_type": "markdown",
   "metadata": {},
   "source": [
    "#### GeoHashes"
   ]
  },
  {
   "cell_type": "code",
   "execution_count": 12,
   "metadata": {},
   "outputs": [],
   "source": [
    "for num in range(5, 10):\n",
    "    lima_data['geohash_grado{}'.format(num)] = lima_data.apply(lambda x: gh.encode(x['latitud'], x['longitud'], precision = num),axis=1)"
   ]
  },
  {
   "cell_type": "code",
   "execution_count": 13,
   "metadata": {},
   "outputs": [
    {
     "data": {
      "text/plain": [
       "La Molina            242\n",
       "Santiago de Surco     30\n",
       "San Isidro            27\n",
       "Miraflores             8\n",
       "NoEspecifica           6\n",
       "Barranco               1\n",
       "Ate Vitarte            1\n",
       "Lima Cercado           1\n",
       "San Borja              1\n",
       "La Victoria            1\n",
       "Name: Barrio, dtype: int64"
      ]
     },
     "execution_count": 13,
     "metadata": {},
     "output_type": "execute_result"
    }
   ],
   "source": [
    "top_geohashes = lima_data['geohash_grado7'].value_counts().iloc[0:7].keys().tolist()\n",
    "\n",
    "#Which discrits have more housing offer?\n",
    "lima_data[lima_data['geohash_grado7'].isin(top_geohashes)]['Barrio'].value_counts()"
   ]
  },
  {
   "cell_type": "markdown",
   "metadata": {},
   "source": [
    "#### CAVEAT! Many posts doen't have exact coordinates but near reference points, that's why we will see same locations across different houses. We found 77 repeated coordinates but with different houses. In La Molina we take as reference EL Molicentro as well as Surco and San Isidro have their own point of reference\n"
   ]
  },
  {
   "cell_type": "code",
   "execution_count": 14,
   "metadata": {},
   "outputs": [
    {
     "data": {
      "text/plain": [
       "latitud     longitud  \n",
       "-12.082020  -76.928234    77\n",
       "            -76.928234     2\n",
       "-12.081858  -76.928393     2\n",
       "            -76.928393     2\n",
       "-12.082040  -76.928287     1\n",
       "-12.081852  -76.928062     1\n",
       "-12.081714  -76.927820     1\n",
       "-12.081075  -76.928427     1\n",
       "dtype: int64"
      ]
     },
     "execution_count": 14,
     "metadata": {},
     "output_type": "execute_result"
    }
   ],
   "source": [
    "lima_data[lima_data['geohash_grado7'] == top_geohashes[0]][['latitud','longitud']].value_counts()"
   ]
  },
  {
   "cell_type": "code",
   "execution_count": 15,
   "metadata": {},
   "outputs": [
    {
     "name": "stdout",
     "output_type": "stream",
     "text": [
      "latitud     longitud  \n",
      "-12.096333  -77.028072    84\n",
      "dtype: int64\n",
      "latitud     longitud  \n",
      "-12.081242  -76.899002    29\n",
      "            -76.899002     3\n",
      "-12.081352  -76.899297     1\n",
      "-12.081232  -76.898994     1\n",
      "-12.081205  -76.899319     1\n",
      "dtype: int64\n"
     ]
    }
   ],
   "source": [
    "print(lima_data[lima_data['geohash_grado7'] == top_geohashes[1]][['latitud','longitud']].value_counts())\n",
    "print(lima_data[lima_data['geohash_grado7'] == top_geohashes[2]][['latitud','longitud']].value_counts())"
   ]
  },
  {
   "cell_type": "code",
   "execution_count": 16,
   "metadata": {},
   "outputs": [
    {
     "data": {
      "text/html": [
       "<div>\n",
       "<style scoped>\n",
       "    .dataframe tbody tr th:only-of-type {\n",
       "        vertical-align: middle;\n",
       "    }\n",
       "\n",
       "    .dataframe tbody tr th {\n",
       "        vertical-align: top;\n",
       "    }\n",
       "\n",
       "    .dataframe thead th {\n",
       "        text-align: right;\n",
       "    }\n",
       "</style>\n",
       "<table border=\"1\" class=\"dataframe\">\n",
       "  <thead>\n",
       "    <tr style=\"text-align: right;\">\n",
       "      <th></th>\n",
       "      <th>geohash_grado5</th>\n",
       "      <th>geohash_grado6</th>\n",
       "      <th>geohash_grado7</th>\n",
       "      <th>geohash_grado8</th>\n",
       "      <th>geohash_grado9</th>\n",
       "    </tr>\n",
       "  </thead>\n",
       "  <tbody>\n",
       "    <tr>\n",
       "      <th>count</th>\n",
       "      <td>5231</td>\n",
       "      <td>5231</td>\n",
       "      <td>5231</td>\n",
       "      <td>5231</td>\n",
       "      <td>5231</td>\n",
       "    </tr>\n",
       "    <tr>\n",
       "      <th>unique</th>\n",
       "      <td>118</td>\n",
       "      <td>729</td>\n",
       "      <td>2711</td>\n",
       "      <td>3665</td>\n",
       "      <td>3786</td>\n",
       "    </tr>\n",
       "    <tr>\n",
       "      <th>top</th>\n",
       "      <td>6mc5p</td>\n",
       "      <td>6mc732</td>\n",
       "      <td>6mc732w</td>\n",
       "      <td>6mc5pjvv</td>\n",
       "      <td>6mc5pjvvg</td>\n",
       "    </tr>\n",
       "    <tr>\n",
       "      <th>freq</th>\n",
       "      <td>728</td>\n",
       "      <td>136</td>\n",
       "      <td>87</td>\n",
       "      <td>84</td>\n",
       "      <td>84</td>\n",
       "    </tr>\n",
       "  </tbody>\n",
       "</table>\n",
       "</div>"
      ],
      "text/plain": [
       "       geohash_grado5 geohash_grado6 geohash_grado7 geohash_grado8  \\\n",
       "count            5231           5231           5231           5231   \n",
       "unique            118            729           2711           3665   \n",
       "top             6mc5p         6mc732        6mc732w       6mc5pjvv   \n",
       "freq              728            136             87             84   \n",
       "\n",
       "       geohash_grado9  \n",
       "count            5231  \n",
       "unique           3786  \n",
       "top         6mc5pjvvg  \n",
       "freq               84  "
      ]
     },
     "execution_count": 16,
     "metadata": {},
     "output_type": "execute_result"
    }
   ],
   "source": [
    "lima_data.filter(regex='^(geohash*)').describe()    "
   ]
  },
  {
   "cell_type": "markdown",
   "metadata": {},
   "source": [
    "## Spatial Feature Engineering"
   ]
  },
  {
   "cell_type": "code",
   "execution_count": 19,
   "metadata": {},
   "outputs": [],
   "source": [
    "import geopandas \n",
    "import osmnx as ox\n",
    "\n",
    "from shapely.geometry import Point\n",
    "import warnings\n",
    "warnings.filterwarnings('ignore')\n",
    "\n",
    "#We built an extra feature that is not included in notebook2 output. If i have Price per total square meter.\n",
    "#To build Price per constructed meter I'll have to pivot values.\n",
    "lima_data['Precio_m2_constr'] = (lima_data['Precio_m2_total'] * lima_data['Area_total'])/lima_data['Area_constr']\n",
    "\n",
    "#We restricted data only for Lima and Callao.\n",
    "filter_1 = (lima_data['Ciudad'].isin(['Lima','Callao','Cañete']))\n",
    "filter_2 = (lima_data['latitud']!= 0)\n",
    "\n",
    "lima_data.where(filter_1 & filter_2 , inplace=True)\n",
    "\n",
    "#Import the Lima Shape File per districts.\n",
    "\n",
    "peru_districts = geopandas.read_file('../data/GeoShape_Distritos/DISTRITOS.shp')\n",
    "lima_districts = peru_districts[peru_districts['DEPARTAMEN'] == 'LIMA']\n",
    "\n",
    "#Aggregate Polygons geometries to get Lima Department Polygon:\n",
    "lima_department = geopandas.GeoSeries([lima_districts[lima_districts['DEPARTAMEN']=='LIMA'].unary_union])\n",
    "\n",
    "#Aggregate Polygons geometries to get Lima District Polygon:\n",
    "lima_province = geopandas.GeoSeries([lima_districts[lima_districts['PROVINCIA']=='LIMA'].unary_union])\n",
    "\n",
    "#We only awant districts inside Lima.\n",
    "lima_filter = (peru_districts['DEPARTAMEN'] == 'LIMA') \n",
    "\n",
    "lima_districts = peru_districts[lima_filter]\n",
    "\n",
    "#We need shapely object. We can transform lats and longs into a shapely.Point object\n",
    "\n",
    "gdf_lima = geopandas.GeoDataFrame(\n",
    "    lima_data, geometry=geopandas.points_from_xy(lima_data.longitud, lima_data.latitud))\n",
    "\n",
    "gdf_lima = gdf_lima[gdf_lima['geometry'].apply(lambda x: x.within(lima_districts.values[0]))]  #Validator.\n",
    "\n",
    "#Temporal drop: Since there are many outliers we'll drop some values.\n",
    "# -------------------------------------------------------------------\n",
    "gdf_lima = gdf_lima[gdf_lima['Precio_m2_total'] < 9000]\n",
    "\n",
    "gdf_lima = gdf_lima[gdf_lima['Precio_m2_constr']<11000]"
   ]
  },
  {
   "cell_type": "code",
   "execution_count": 24,
   "metadata": {},
   "outputs": [
    {
     "data": {
      "text/plain": [
       "<Geographic 2D CRS: EPSG:4326>\n",
       "Name: WGS 84\n",
       "Axis Info [ellipsoidal]:\n",
       "- Lat[north]: Geodetic latitude (degree)\n",
       "- Lon[east]: Geodetic longitude (degree)\n",
       "Area of Use:\n",
       "- name: World.\n",
       "- bounds: (-180.0, -90.0, 180.0, 90.0)\n",
       "Datum: World Geodetic System 1984 ensemble\n",
       "- Ellipsoid: WGS 84\n",
       "- Prime Meridian: Greenwich"
      ]
     },
     "execution_count": 24,
     "metadata": {},
     "output_type": "execute_result"
    }
   ],
   "source": [
    "#Re-setting index\n",
    "gdf_lima = gdf_lima.reset_index(drop=True).reset_index().rename(columns={'index':'ID'})\n",
    "#Checkin the Coordinate reference system\n",
    "gdf_lima = gdf_lima.set_crs('epsg:4326')\n",
    "gdf_lima.crs"
   ]
  },
  {
   "cell_type": "markdown",
   "metadata": {},
   "source": [
    "### Map Matching.\n",
    "\n",
    "We will extract point of interests from OSMnx and transpolate those features to our housing dataset. First we will restrict our total area of interest and then we will unify that dataframe with our origins. We are choosing these categories: 'school','restaurant','parking','marketplace','bank','college','university','bus_station','police','clinic'"
   ]
  },
  {
   "cell_type": "code",
   "execution_count": 31,
   "metadata": {},
   "outputs": [],
   "source": [
    "gdf_ch = gdf_lima.unary_union.convex_hull #Lima's Geometry\n",
    "\n",
    "#amenities = ox.geometries_from_polygon(gdf_ch, tags={\"amenity\":['school','restaurant','parking','marketplace','bank','college','university','bus_station','police','clinic']})[[\"amenity\",\"name\",\"geometry\"]]\n",
    "#Inside Lima Filter\n",
    "#amenities = amenities[amenities['geometry'].apply(lambda x: x.within(lima_province.values[0]))]\n",
    "#amenities.to_csv('amenities.csv')\n",
    "\n",
    "#Load our Amenities Dataset\n",
    "from shapely import wkt\n",
    "amenities = pd.read_csv('../data/to_load/amenities.csv')\n",
    "geometry = amenities['geometry'].map(wkt.loads)\n",
    "amenities.drop('geometry', axis=1, inplace=True)\n",
    "amenities = geopandas.GeoDataFrame(amenities, crs='epsg:4326', geometry = geometry)"
   ]
  },
  {
   "cell_type": "code",
   "execution_count": 32,
   "metadata": {},
   "outputs": [
    {
     "data": {
      "text/plain": [
       "<AxesSubplot:>"
      ]
     },
     "execution_count": 32,
     "metadata": {},
     "output_type": "execute_result"
    },
    {
     "data": {
      "image/png": "[encoded data removed]",
      "text/plain": [
       "<Figure size 864x864 with 1 Axes>"
      ]
     },
     "metadata": {
      "needs_background": "light"
     },
     "output_type": "display_data"
    }
   ],
   "source": [
    "#Creating Buffer.\n",
    "#--------------------------------------BUFFER HYPERPARAM--------------------------------------------\n",
    "BUFFER_SIZE = 0.01\n",
    "gdf_lima['buffer_500m'] = gdf_lima.buffer(BUFFER_SIZE)\n",
    "\n",
    "#see one buffer to be sure makes sense.\n",
    "buffer = gdf_lima.iloc[0:6,:]['buffer_500m']\n",
    "fig, ax = plt.subplots(1, figsize=(12,12))\n",
    "lima_province.plot(ax=ax,color='grey', alpha=0.70)\n",
    "buffer.plot(ax=ax)"
   ]
  },
  {
   "cell_type": "markdown",
   "metadata": {},
   "source": [
    "#### Creating All Point Of interest Features:\n",
    "\n",
    "**CAVEAT:** 0.005 is an Hyperparameter that needs to be validated."
   ]
  },
  {
   "cell_type": "code",
   "execution_count": 33,
   "metadata": {},
   "outputs": [],
   "source": [
    "### CREATING POINT OF INTEREST FEATURES\n",
    "dict_poi = {}\n",
    "gdf_lima['buffer_500m'] = gdf_lima.buffer(0.005)\n",
    "for amenity in amenities['amenity'].unique():\n",
    "    amenity_df = amenities[amenities['amenity'] == amenity]\n",
    "    joined = geopandas.sjoin(amenity_df, gdf_lima.set_geometry('buffer_500m')[['ID','buffer_500m']], op='within')\n",
    "    poi_count = joined.reset_index().groupby(\"ID\")[\"osmid\"].count().to_frame('{}_poi_count'.format(amenity))\n",
    "    dict_poi[amenity] = poi_count"
   ]
  },
  {
   "cell_type": "code",
   "execution_count": 35,
   "metadata": {},
   "outputs": [],
   "source": [
    "#Merge with Origin Data (GDF)\n",
    "#GDF size = 3477,25 - dict-bank 2776,1\n",
    "for amenity_name, poi_count in dict_poi.items():\n",
    "    \n",
    "    temp_df = dict_poi[amenity_name].reset_index()\n",
    "    gdf_lima = gdf_lima.merge(temp_df, on=['ID'],how='left').fillna(0.0)"
   ]
  },
  {
   "cell_type": "markdown",
   "metadata": {},
   "source": [
    "#### Distance Bands and Distance Buffers:\n",
    "\n",
    "We will use Distance Bands weight objects, considering other houses as \"neighbors\" if they are within the distance threshold. In other words, we will be considering the median of some feature around the spatial distance that we will define. For now we will just make Dormitorios and Area_total based feature"
   ]
  },
  {
   "cell_type": "code",
   "execution_count": 37,
   "metadata": {},
   "outputs": [],
   "source": [
    "import libpysal.weights as weights\n",
    "\n",
    "#THRESHOLD HYPERPARAMETER\n",
    "\n",
    "THRESHOLD_HYPERPARAM = 500\n",
    "\n",
    "d500_w = weights.DistanceBand.from_dataframe(gdf_lima, threshold=THRESHOLD_HYPERPARAM , silence_warnings=True)\n",
    "d500_w.transform = 'r'\n",
    "\n",
    "local_average_bedrooms = weights.lag_spatial(d500_w, gdf_lima[['Dormitorios']].values)\n",
    "\n",
    "gdf_lima['local_average_bedrooms'] = local_average_bedrooms\n",
    "\n",
    "\n",
    "area_500_w = weights.DistanceBand.from_dataframe(gdf_lima, threshold=500, silence_warnings=True)\n",
    "area_500_w.transform = 'r'\n",
    "\n",
    "local_average_total_area = weights.lag_spatial(area_500_w, gdf_lima[['Area_total']].values)"
   ]
  },
  {
   "cell_type": "code",
   "execution_count": 38,
   "metadata": {},
   "outputs": [],
   "source": [
    "gdf_lima['local_average_total_area'] = local_average_total_area"
   ]
  },
  {
   "cell_type": "markdown",
   "metadata": {},
   "source": [
    "### Dropping Geometry columns: \n"
   ]
  },
  {
   "cell_type": "code",
   "execution_count": 44,
   "metadata": {},
   "outputs": [
    {
     "name": "stdout",
     "output_type": "stream",
     "text": [
      "<class 'pandas.core.frame.DataFrame'>\n",
      "Int64Index: 4052 entries, 0 to 4051\n",
      "Data columns (total 36 columns):\n",
      " #   Column                    Non-Null Count  Dtype  \n",
      "---  ------                    --------------  -----  \n",
      " 0   latitud                   4052 non-null   float64\n",
      " 1   longitud                  4052 non-null   float64\n",
      " 2   Barrio                    4052 non-null   object \n",
      " 3   Ciudad                    4052 non-null   object \n",
      " 4   Precio                    4052 non-null   float64\n",
      " 5   Area_total                4052 non-null   float64\n",
      " 6   Area_constr               4052 non-null   float64\n",
      " 7   MONEDA                    4052 non-null   object \n",
      " 8   Precio_m2_total           4052 non-null   float64\n",
      " 9   Precio_m2_constr          4052 non-null   float64\n",
      " 10  Precio_cat                4052 non-null   object \n",
      " 11  Area_constr_cat           4052 non-null   float64\n",
      " 12  NroBanios                 4052 non-null   float64\n",
      " 13  Dormitorios               4052 non-null   float64\n",
      " 14  Antiguedad                4052 non-null   float64\n",
      " 15  Cocheras                  4052 non-null   float64\n",
      " 16  areas_diff                4052 non-null   float64\n",
      " 17  areas_proporcion          4052 non-null   float64\n",
      " 18  diff_total_mean_district  4052 non-null   float64\n",
      " 19  geohash_grado5            4052 non-null   object \n",
      " 20  geohash_grado6            4052 non-null   object \n",
      " 21  geohash_grado7            4052 non-null   object \n",
      " 22  geohash_grado8            4052 non-null   object \n",
      " 23  geohash_grado9            4052 non-null   object \n",
      " 24  bank_poi_count            4052 non-null   float64\n",
      " 25  parking_poi_count         4052 non-null   float64\n",
      " 26  clinic_poi_count          4052 non-null   float64\n",
      " 27  restaurant_poi_count      4052 non-null   float64\n",
      " 28  school_poi_count          4052 non-null   float64\n",
      " 29  bus_station_poi_count     4052 non-null   float64\n",
      " 30  college_poi_count         4052 non-null   float64\n",
      " 31  university_poi_count      4052 non-null   float64\n",
      " 32  marketplace_poi_count     4052 non-null   float64\n",
      " 33  police_poi_count          4052 non-null   float64\n",
      " 34  local_average_bedrooms    4052 non-null   float64\n",
      " 35  local_average_total_area  4052 non-null   float64\n",
      "dtypes: float64(27), object(9)\n",
      "memory usage: 1.3+ MB\n"
     ]
    }
   ],
   "source": [
    "gdf_lima.drop(['ID','geometry','buffer_500m'],axis=1,inplace=True)\n",
    "lima_data = pd.DataFrame(gdf_lima)\n",
    "lima_data.info()"
   ]
  },
  {
   "cell_type": "markdown",
   "metadata": {},
   "source": [
    "#### Correlations"
   ]
  },
  {
   "cell_type": "code",
   "execution_count": 45,
   "metadata": {},
   "outputs": [
    {
     "data": {
      "text/plain": [
       "<AxesSubplot:>"
      ]
     },
     "execution_count": 45,
     "metadata": {},
     "output_type": "execute_result"
    },
    {
     "data": {
      "image/png": "[encoded data removed]",
      "text/plain": [
       "<Figure size 432x288 with 2 Axes>"
      ]
     },
     "metadata": {
      "needs_background": "light"
     },
     "output_type": "display_data"
    }
   ],
   "source": [
    "import seaborn as sns\n",
    "import matplotlib.pyplot as plt\n",
    "\n",
    "corr = lima_data.corr()\n",
    "sns.heatmap(corr)"
   ]
  },
  {
   "cell_type": "markdown",
   "metadata": {},
   "source": [
    "##### Target Selection\n",
    "\n",
    "We have 4 ways to define our target data.\n",
    "\n",
    "- Precio: Total price of the house\n",
    "\n",
    "- Precio_m2_total: Price / total square meters \n",
    "\n",
    "- Precio_m2_constr: Price / constructed square meters\n",
    "\n",
    "- Precio_cat: Categories prices"
   ]
  },
  {
   "cell_type": "code",
   "execution_count": 46,
   "metadata": {},
   "outputs": [
    {
     "name": "stdout",
     "output_type": "stream",
     "text": [
      "columnas Y: ['Precio' 'Precio_m2_total' 'Precio_m2_constr' 'Precio_cat']\n"
     ]
    }
   ],
   "source": [
    "X = lima_data.drop(lima_data.filter(regex='(P?p?recio)').columns,axis=1)\n",
    "Y = lima_data.filter(regex='(P?p?recio)')\n",
    "print('columnas Y: {}'.format(Y.columns.values))"
   ]
  },
  {
   "cell_type": "code",
   "execution_count": 47,
   "metadata": {},
   "outputs": [],
   "source": [
    "from sklearn.model_selection import train_test_split\n",
    "X_train, X_test, y_train, y_test = train_test_split(X, Y['Precio_m2_total'], test_size=0.1, random_state = 215)"
   ]
  },
  {
   "cell_type": "code",
   "execution_count": 49,
   "metadata": {},
   "outputs": [],
   "source": [
    "pd.concat([X_train,y_train],axis=1).to_csv('../data/2020_Notebook02_train_output.csv',index=False)\n",
    "\n",
    "pd.concat([X_test,y_test],axis=1).to_csv('../data/2020_Notebook02_test_output.csv',index=False)"
   ]
  }
 ],
 "metadata": {
  "kernelspec": {
   "display_name": "ox",
   "language": "python",
   "name": "ox"
  },
  "language_info": {
   "codemirror_mode": {
    "name": "ipython",
    "version": 3
   },
   "file_extension": ".py",
   "mimetype": "text/x-python",
   "name": "python",
   "nbconvert_exporter": "python",
   "pygments_lexer": "ipython3",
   "version": "3.9.6"
  }
 },
 "nbformat": 4,
 "nbformat_minor": 4
}
