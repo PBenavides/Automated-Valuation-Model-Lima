{
 "cells": [
  {
   "cell_type": "markdown",
   "metadata": {},
   "source": [
    "#### Feature Engineering & Encoding.\n",
    "\n",
    "Esto lo ponemos en un notebook aparte porque a partir de acá se crearán Pipelines para los datos, además, se crearán los artifacts necesarios a usar en el despliegue.\n",
    "\n",
    "**Feature Engineering tasks:** \n",
    "\n",
    "- Geohashes. DONE\n",
    "- Distritos con más ingresos.\n",
    "- Precio por m2 en Geohashes (KNN para los por inputar)\n",
    "\n",
    "**Hacer encodings**\n",
    "\n",
    "**Ver Correlaciones**\n",
    "\n",
    "**Ver distribuciones por categorías**"
   ]
  },
  {
   "cell_type": "code",
   "execution_count": 1,
   "metadata": {},
   "outputs": [],
   "source": [
    "import pandas as pd\n",
    "import numpy as np\n",
    "import seaborn as sns\n",
    "import geohash2 as gh #pip install geohash2\n",
    "import gc\n",
    "\n",
    "lima_data = pd.read_csv('../data/2020_Notebook01_clean_data.csv')\n",
    "lima_data.describe()\n",
    "\n",
    "#Las coordenadas son negativas, se scrapearon sin el -1\n",
    "lima_data['latitud'] = lima_data['latitud']*-1\n",
    "lima_data['longitud'] = lima_data['longitud']*-1"
   ]
  },
  {
   "cell_type": "markdown",
   "metadata": {},
   "source": [
    "#### GeoHashes"
   ]
  },
  {
   "cell_type": "code",
   "execution_count": 2,
   "metadata": {},
   "outputs": [],
   "source": [
    "for num in range(5, 10):\n",
    "    lima_data['geohash_grado{}'.format(num)] = lima_data.apply(lambda x: gh.encode(x['latitud'], x['longitud'], precision = num),axis=1)"
   ]
  },
  {
   "cell_type": "code",
   "execution_count": 3,
   "metadata": {},
   "outputs": [
    {
     "data": {
      "text/plain": [
       "La Molina            261\n",
       "Santiago de Surco     32\n",
       "San Isidro            28\n",
       "Miraflores             8\n",
       "NoEspecifica           6\n",
       "Barranco               1\n",
       "La Victoria            1\n",
       "Ate Vitarte            1\n",
       "Lima Cercado           1\n",
       "San Borja              1\n",
       "Name: Barrio, dtype: int64"
      ]
     },
     "execution_count": 3,
     "metadata": {},
     "output_type": "execute_result"
    }
   ],
   "source": [
    "top_geohashes = lima_data['geohash_grado7'].value_counts().iloc[0:7].keys().tolist()\n",
    "\n",
    "#En qué Distrito están los barrios con mayor oferta?\n",
    "lima_data[lima_data['geohash_grado7'].isin(top_geohashes)]['Barrio'].value_counts()"
   ]
  },
  {
   "cell_type": "markdown",
   "metadata": {},
   "source": [
    "#### OJO! Varios anuncios no ponen las coordenadas exactas, sino unas aledañas. Por eso se ve como si este barrio tuviera varias casas en oferta. Son las mismas 78 coordenadas. Pero diferentes casas. En la Molina toman de referencia el Molicentro. Igual pasa en Surco y en San isidro pero con algo de menos frecuencia. "
   ]
  },
  {
   "cell_type": "code",
   "execution_count": 4,
   "metadata": {},
   "outputs": [
    {
     "data": {
      "text/plain": [
       "latitud     longitud  \n",
       "-12.096333  -77.028072    88\n",
       "dtype: int64"
      ]
     },
     "execution_count": 4,
     "metadata": {},
     "output_type": "execute_result"
    }
   ],
   "source": [
    "lima_data[lima_data['geohash_grado7'] == top_geohashes[0]][['latitud','longitud']].value_counts()"
   ]
  },
  {
   "cell_type": "code",
   "execution_count": 5,
   "metadata": {},
   "outputs": [
    {
     "name": "stdout",
     "output_type": "stream",
     "text": [
      "latitud     longitud  \n",
      "-12.082020  -76.928234    78\n",
      "-12.081859  -76.928393     2\n",
      "            -76.928393     2\n",
      "-12.082020  -76.928234     2\n",
      "-12.081075  -76.928427     1\n",
      "-12.081714  -76.927820     1\n",
      "-12.081852  -76.928062     1\n",
      "-12.082040  -76.928287     1\n",
      "dtype: int64\n",
      "latitud     longitud  \n",
      "-12.075639  -76.911006    25\n",
      "            -76.911006    12\n",
      "dtype: int64\n"
     ]
    }
   ],
   "source": [
    "print(lima_data[lima_data['geohash_grado7'] == top_geohashes[1]][['latitud','longitud']].value_counts())\n",
    "print(lima_data[lima_data['geohash_grado7'] == top_geohashes[2]][['latitud','longitud']].value_counts())"
   ]
  },
  {
   "cell_type": "code",
   "execution_count": 6,
   "metadata": {},
   "outputs": [
    {
     "data": {
      "text/html": [
       "<div>\n",
       "<style scoped>\n",
       "    .dataframe tbody tr th:only-of-type {\n",
       "        vertical-align: middle;\n",
       "    }\n",
       "\n",
       "    .dataframe tbody tr th {\n",
       "        vertical-align: top;\n",
       "    }\n",
       "\n",
       "    .dataframe thead th {\n",
       "        text-align: right;\n",
       "    }\n",
       "</style>\n",
       "<table border=\"1\" class=\"dataframe\">\n",
       "  <thead>\n",
       "    <tr style=\"text-align: right;\">\n",
       "      <th></th>\n",
       "      <th>geohash_grado5</th>\n",
       "      <th>geohash_grado6</th>\n",
       "      <th>geohash_grado7</th>\n",
       "      <th>geohash_grado8</th>\n",
       "      <th>geohash_grado9</th>\n",
       "    </tr>\n",
       "  </thead>\n",
       "  <tbody>\n",
       "    <tr>\n",
       "      <th>count</th>\n",
       "      <td>5534</td>\n",
       "      <td>5534</td>\n",
       "      <td>5534</td>\n",
       "      <td>5534</td>\n",
       "      <td>5534</td>\n",
       "    </tr>\n",
       "    <tr>\n",
       "      <th>unique</th>\n",
       "      <td>127</td>\n",
       "      <td>771</td>\n",
       "      <td>2827</td>\n",
       "      <td>3822</td>\n",
       "      <td>3954</td>\n",
       "    </tr>\n",
       "    <tr>\n",
       "      <th>top</th>\n",
       "      <td>6mc73</td>\n",
       "      <td>6mc732</td>\n",
       "      <td>6mc5pjv</td>\n",
       "      <td>6mc5pjvv</td>\n",
       "      <td>6mc5pjvvg</td>\n",
       "    </tr>\n",
       "    <tr>\n",
       "      <th>freq</th>\n",
       "      <td>776</td>\n",
       "      <td>144</td>\n",
       "      <td>88</td>\n",
       "      <td>88</td>\n",
       "      <td>88</td>\n",
       "    </tr>\n",
       "  </tbody>\n",
       "</table>\n",
       "</div>"
      ],
      "text/plain": [
       "       geohash_grado5 geohash_grado6 geohash_grado7 geohash_grado8  \\\n",
       "count            5534           5534           5534           5534   \n",
       "unique            127            771           2827           3822   \n",
       "top             6mc73         6mc732        6mc5pjv       6mc5pjvv   \n",
       "freq              776            144             88             88   \n",
       "\n",
       "       geohash_grado9  \n",
       "count            5534  \n",
       "unique           3954  \n",
       "top         6mc5pjvvg  \n",
       "freq               88  "
      ]
     },
     "execution_count": 6,
     "metadata": {},
     "output_type": "execute_result"
    }
   ],
   "source": [
    "lima_data.filter(regex='^(geohash*)').describe()    "
   ]
  },
  {
   "cell_type": "code",
   "execution_count": null,
   "metadata": {},
   "outputs": [],
   "source": []
  },
  {
   "cell_type": "markdown",
   "metadata": {},
   "source": [
    "#### Correlaciones"
   ]
  },
  {
   "cell_type": "code",
   "execution_count": 7,
   "metadata": {},
   "outputs": [
    {
     "data": {
      "text/plain": [
       "<AxesSubplot:>"
      ]
     },
     "execution_count": 7,
     "metadata": {},
     "output_type": "execute_result"
    },
    {
     "data": {
      "image/png": "[encoded data removed]",
      "text/plain": [
       "<Figure size 432x288 with 2 Axes>"
      ]
     },
     "metadata": {
      "needs_background": "light"
     },
     "output_type": "display_data"
    }
   ],
   "source": [
    "import seaborn as sns\n",
    "corr = lima_data.corr()\n",
    "sns.heatmap(corr)\n",
    "#Las cocheras están correlacionadas con el Precio???"
   ]
  },
  {
   "cell_type": "markdown",
   "metadata": {},
   "source": [
    "##### Selección del Target.\n",
    "\n",
    "Tenemos 4 formas de target:\n",
    "\n",
    "- Precio: Precio total del inmueble.\n",
    "\n",
    "- Precio_m2_total: Precio / metros cuadrados del area total.\n",
    "\n",
    "- Precio_m2_constr: Precio / metros cuadrados del area construida.\n",
    "\n",
    "- Precio_cat: Precio por categorias."
   ]
  },
  {
   "cell_type": "code",
   "execution_count": 8,
   "metadata": {},
   "outputs": [
    {
     "name": "stdout",
     "output_type": "stream",
     "text": [
      "columnas Y: ['Precio' 'Precio_m2_total' 'Precio_m2_constr' 'Precio_cat']\n"
     ]
    }
   ],
   "source": [
    "X = lima_data.drop(lima_data.filter(regex='(P?p?recio)').columns,axis=1)\n",
    "Y = lima_data.filter(regex='(P?p?recio)')\n",
    "print('columnas Y: {}'.format(Y.columns.values))"
   ]
  },
  {
   "cell_type": "code",
   "execution_count": 9,
   "metadata": {},
   "outputs": [],
   "source": [
    "from sklearn.model_selection import train_test_split\n",
    "X_train, X_test, y_train, y_test = train_test_split(X, Y['Precio_m2_total'], test_size=0.1, random_state = 215)"
   ]
  },
  {
   "cell_type": "code",
   "execution_count": 10,
   "metadata": {},
   "outputs": [],
   "source": [
    "pd.concat([X_train,y_train],axis=1).to_csv('../data/train.csv',index=False)\n",
    "\n",
    "pd.concat([X_test,y_test],axis=1).to_csv('../data/test.csv',index=False)"
   ]
  }
 ],
 "metadata": {
  "kernelspec": {
   "display_name": "Python 3",
   "language": "python",
   "name": "python3"
  },
  "language_info": {
   "codemirror_mode": {
    "name": "ipython",
    "version": 3
   },
   "file_extension": ".py",
   "mimetype": "text/x-python",
   "name": "python",
   "nbconvert_exporter": "python",
   "pygments_lexer": "ipython3",
   "version": "3.8.5"
  }
 },
 "nbformat": 4,
 "nbformat_minor": 4
}
