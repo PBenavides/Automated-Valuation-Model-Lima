{
 "cells": [
  {
   "cell_type": "markdown",
   "metadata": {},
   "source": [
    "#### Feature Engineering & Encoding.\n",
    "\n",
    "Esto lo ponemos en un notebook aparte porque a partir de acá se crearán Pipelines para los datos, además, se crearán los artifacts necesarios a usar en el despliegue.\n",
    "\n",
    "**Feature Engineering tasks:** \n",
    "\n",
    "- Geohashes. **DONE**\n",
    "- Precio por m2 en Geohashes (KNN para los por inputar)\n",
    "- Diferencia entre area total y area construida. **DONE**\n",
    "- Qué tanto difiere el tamaño de casa con el promedio del distrito. \n",
    "\n",
    "**Hacer encodings**\n",
    "\n",
    "**Ver Correlaciones**\n",
    "\n",
    "**Ver distribuciones por categorías**"
   ]
  },
  {
   "cell_type": "code",
   "execution_count": 1,
   "metadata": {},
   "outputs": [],
   "source": [
    "import pandas as pd\n",
    "import numpy as np\n",
    "import seaborn as sns\n",
    "import geohash2 as gh #pip install geohash2\n",
    "import gc\n",
    "\n",
    "lima_data = pd.read_csv('../data/2020_Notebook01_clean_data.csv')\n",
    "lima_data.describe()\n",
    "\n",
    "#Las coordenadas son negativas, se scrapearon sin el -1\n",
    "lima_data['latitud'] = lima_data['latitud']*-1\n",
    "lima_data['longitud'] = lima_data['longitud']*-1"
   ]
  },
  {
   "cell_type": "markdown",
   "metadata": {},
   "source": [
    "#### Feature Engineering"
   ]
  },
  {
   "cell_type": "code",
   "execution_count": 2,
   "metadata": {},
   "outputs": [],
   "source": [
    "lima_data['areas_diff'] = lima_data['Area_total'] - lima_data['Area_constr']"
   ]
  },
  {
   "cell_type": "code",
   "execution_count": 18,
   "metadata": {},
   "outputs": [],
   "source": [
    "lima_data['areas_proporcion'] = lima_data['Area_total']/lima_data['Area_constr']"
   ]
  },
  {
   "cell_type": "code",
   "execution_count": 33,
   "metadata": {},
   "outputs": [],
   "source": [
    "drop_prop = lima_data[lima_data['areas_proporcion'] >= 4.0].index\n",
    "lima_data.drop(drop_prop, inplace=True)"
   ]
  },
  {
   "cell_type": "markdown",
   "metadata": {},
   "source": [
    "#### GeoHashes"
   ]
  },
  {
   "cell_type": "code",
   "execution_count": 35,
   "metadata": {},
   "outputs": [],
   "source": [
    "for num in range(5, 10):\n",
    "    lima_data['geohash_grado{}'.format(num)] = lima_data.apply(lambda x: gh.encode(x['latitud'], x['longitud'], precision = num),axis=1)"
   ]
  },
  {
   "cell_type": "code",
   "execution_count": 36,
   "metadata": {},
   "outputs": [
    {
     "data": {
      "text/plain": [
       "La Molina            244\n",
       "Santiago de Surco     31\n",
       "San Isidro            28\n",
       "Miraflores             8\n",
       "NoEspecifica           6\n",
       "San Borja              1\n",
       "La Victoria            1\n",
       "Ate Vitarte            1\n",
       "Lima Cercado           1\n",
       "Barranco               1\n",
       "Name: Barrio, dtype: int64"
      ]
     },
     "execution_count": 36,
     "metadata": {},
     "output_type": "execute_result"
    }
   ],
   "source": [
    "top_geohashes = lima_data['geohash_grado7'].value_counts().iloc[0:7].keys().tolist()\n",
    "\n",
    "#En qué Distrito están los barrios con mayor oferta?\n",
    "lima_data[lima_data['geohash_grado7'].isin(top_geohashes)]['Barrio'].value_counts()"
   ]
  },
  {
   "cell_type": "markdown",
   "metadata": {},
   "source": [
    "#### OJO! Varios anuncios no ponen las coordenadas exactas, sino unas aledañas. Por eso se ve como si este barrio tuviera varias casas en oferta. Son las mismas 78 coordenadas. Pero diferentes casas. En la Molina toman de referencia el Molicentro. Igual pasa en Surco y en San isidro pero con algo de menos frecuencia. "
   ]
  },
  {
   "cell_type": "code",
   "execution_count": 37,
   "metadata": {},
   "outputs": [
    {
     "data": {
      "text/plain": [
       "latitud     longitud  \n",
       "-12.082020  -76.928234    77\n",
       "-12.081859  -76.928393     2\n",
       "            -76.928393     2\n",
       "-12.082020  -76.928234     2\n",
       "-12.081075  -76.928427     1\n",
       "-12.081714  -76.927820     1\n",
       "-12.081852  -76.928062     1\n",
       "-12.082040  -76.928287     1\n",
       "dtype: int64"
      ]
     },
     "execution_count": 37,
     "metadata": {},
     "output_type": "execute_result"
    }
   ],
   "source": [
    "lima_data[lima_data['geohash_grado7'] == top_geohashes[0]][['latitud','longitud']].value_counts()"
   ]
  },
  {
   "cell_type": "code",
   "execution_count": 38,
   "metadata": {},
   "outputs": [
    {
     "name": "stdout",
     "output_type": "stream",
     "text": [
      "latitud     longitud  \n",
      "-12.096333  -77.028072    85\n",
      "dtype: int64\n",
      "latitud     longitud  \n",
      "-12.081241  -76.899002    29\n",
      "            -76.899002     3\n",
      "-12.081205  -76.899319     1\n",
      "-12.081232  -76.898994     1\n",
      "-12.081352  -76.899297     1\n",
      "dtype: int64\n"
     ]
    }
   ],
   "source": [
    "print(lima_data[lima_data['geohash_grado7'] == top_geohashes[1]][['latitud','longitud']].value_counts())\n",
    "print(lima_data[lima_data['geohash_grado7'] == top_geohashes[2]][['latitud','longitud']].value_counts())"
   ]
  },
  {
   "cell_type": "code",
   "execution_count": 39,
   "metadata": {},
   "outputs": [
    {
     "data": {
      "text/html": [
       "<div>\n",
       "<style scoped>\n",
       "    .dataframe tbody tr th:only-of-type {\n",
       "        vertical-align: middle;\n",
       "    }\n",
       "\n",
       "    .dataframe tbody tr th {\n",
       "        vertical-align: top;\n",
       "    }\n",
       "\n",
       "    .dataframe thead th {\n",
       "        text-align: right;\n",
       "    }\n",
       "</style>\n",
       "<table border=\"1\" class=\"dataframe\">\n",
       "  <thead>\n",
       "    <tr style=\"text-align: right;\">\n",
       "      <th></th>\n",
       "      <th>geohash_grado5</th>\n",
       "      <th>geohash_grado6</th>\n",
       "      <th>geohash_grado7</th>\n",
       "      <th>geohash_grado8</th>\n",
       "      <th>geohash_grado9</th>\n",
       "    </tr>\n",
       "  </thead>\n",
       "  <tbody>\n",
       "    <tr>\n",
       "      <th>count</th>\n",
       "      <td>5317</td>\n",
       "      <td>5317</td>\n",
       "      <td>5317</td>\n",
       "      <td>5317</td>\n",
       "      <td>5317</td>\n",
       "    </tr>\n",
       "    <tr>\n",
       "      <th>unique</th>\n",
       "      <td>119</td>\n",
       "      <td>732</td>\n",
       "      <td>2741</td>\n",
       "      <td>3709</td>\n",
       "      <td>3835</td>\n",
       "    </tr>\n",
       "    <tr>\n",
       "      <th>top</th>\n",
       "      <td>6mc5p</td>\n",
       "      <td>6mc732</td>\n",
       "      <td>6mc732w</td>\n",
       "      <td>6mc5pjvv</td>\n",
       "      <td>6mc5pjvvg</td>\n",
       "    </tr>\n",
       "    <tr>\n",
       "      <th>freq</th>\n",
       "      <td>730</td>\n",
       "      <td>137</td>\n",
       "      <td>87</td>\n",
       "      <td>85</td>\n",
       "      <td>85</td>\n",
       "    </tr>\n",
       "  </tbody>\n",
       "</table>\n",
       "</div>"
      ],
      "text/plain": [
       "       geohash_grado5 geohash_grado6 geohash_grado7 geohash_grado8  \\\n",
       "count            5317           5317           5317           5317   \n",
       "unique            119            732           2741           3709   \n",
       "top             6mc5p         6mc732        6mc732w       6mc5pjvv   \n",
       "freq              730            137             87             85   \n",
       "\n",
       "       geohash_grado9  \n",
       "count            5317  \n",
       "unique           3835  \n",
       "top         6mc5pjvvg  \n",
       "freq               85  "
      ]
     },
     "execution_count": 39,
     "metadata": {},
     "output_type": "execute_result"
    }
   ],
   "source": [
    "lima_data.filter(regex='^(geohash*)').describe()    "
   ]
  },
  {
   "cell_type": "markdown",
   "metadata": {},
   "source": [
    "#### Correlaciones"
   ]
  },
  {
   "cell_type": "code",
   "execution_count": 40,
   "metadata": {},
   "outputs": [
    {
     "data": {
      "text/plain": [
       "<AxesSubplot:>"
      ]
     },
     "execution_count": 40,
     "metadata": {},
     "output_type": "execute_result"
    },
    {
     "data": {
      "image/png": "[encoded data removed]",
      "text/plain": [
       "<Figure size 432x288 with 2 Axes>"
      ]
     },
     "metadata": {
      "needs_background": "light"
     },
     "output_type": "display_data"
    }
   ],
   "source": [
    "import seaborn as sns\n",
    "corr = lima_data.corr()\n",
    "sns.heatmap(corr)\n",
    "#Las cocheras están correlacionadas con el Precio???"
   ]
  },
  {
   "cell_type": "markdown",
   "metadata": {},
   "source": [
    "##### Selección del Target.\n",
    "\n",
    "Tenemos 4 formas de target:\n",
    "\n",
    "- Precio: Precio total del inmueble.\n",
    "\n",
    "- Precio_m2_total: Precio / metros cuadrados del area total.\n",
    "\n",
    "- Precio_m2_constr: Precio / metros cuadrados del area construida.\n",
    "\n",
    "- Precio_cat: Precio por categorias."
   ]
  },
  {
   "cell_type": "code",
   "execution_count": 41,
   "metadata": {},
   "outputs": [
    {
     "name": "stdout",
     "output_type": "stream",
     "text": [
      "columnas Y: ['Precio' 'Precio_m2_total' 'Precio_m2_constr' 'Precio_cat']\n"
     ]
    }
   ],
   "source": [
    "X = lima_data.drop(lima_data.filter(regex='(P?p?recio)').columns,axis=1)\n",
    "Y = lima_data.filter(regex='(P?p?recio)')\n",
    "print('columnas Y: {}'.format(Y.columns.values))"
   ]
  },
  {
   "cell_type": "code",
   "execution_count": 42,
   "metadata": {},
   "outputs": [],
   "source": [
    "from sklearn.model_selection import train_test_split\n",
    "X_train, X_test, y_train, y_test = train_test_split(X, Y['Precio_m2_total'], test_size=0.1, random_state = 215)"
   ]
  },
  {
   "cell_type": "code",
   "execution_count": 43,
   "metadata": {},
   "outputs": [],
   "source": [
    "pd.concat([X_train,y_train],axis=1).to_csv('../data/2020_Notebook02_train_output.csv',index=False)\n",
    "\n",
    "pd.concat([X_test,y_test],axis=1).to_csv('../data/2020_Notebook02_test_output.csv',index=False)"
   ]
  }
 ],
 "metadata": {
  "kernelspec": {
   "display_name": "Python 3",
   "language": "python",
   "name": "python3"
  },
  "language_info": {
   "codemirror_mode": {
    "name": "ipython",
    "version": 3
   },
   "file_extension": ".py",
   "mimetype": "text/x-python",
   "name": "python",
   "nbconvert_exporter": "python",
   "pygments_lexer": "ipython3",
   "version": "3.8.5"
  }
 },
 "nbformat": 4,
 "nbformat_minor": 4
}
