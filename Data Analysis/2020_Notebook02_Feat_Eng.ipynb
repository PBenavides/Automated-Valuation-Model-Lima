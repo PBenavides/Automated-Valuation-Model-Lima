{
 "cells": [
  {
   "cell_type": "markdown",
   "metadata": {},
   "source": [
    "#### Feature Engineering & Encoding.\n",
    "\n",
    "Esto lo ponemos en un notebook aparte porque a partir de acá se crearán Pipelines para los datos, además, se crearán los artifacts necesarios a usar en el despliegue.\n",
    "\n",
    "**Feature Engineering tasks:** \n",
    "\n",
    "- Geohashes.\n",
    "- Distritos con más ingresos.\n",
    "- Precio por m2 en Geohashes (KNN para los por inputar)\n",
    "\n",
    "**Hacer encodings**\n",
    "\n",
    "**Ver Correlaciones**\n",
    "\n",
    "**Ver distribuciones por categorías**"
   ]
  },
  {
   "cell_type": "code",
   "execution_count": 23,
   "metadata": {},
   "outputs": [],
   "source": [
    "import pandas as pd\n",
    "import numpy as np\n",
    "import seaborn as sns\n",
    "import geohash2 as gh #pip install geohash2\n",
    "import gc\n",
    "\n",
    "lima_data = pd.read_csv('../data/2020_Notebook01_clean_data.csv')\n",
    "lima_data.describe()\n",
    "\n",
    "#Las coordenadas son negativas, se scrapearon sin el -1\n",
    "lima_data['latitud'] = lima_data['latitud']*-1\n",
    "lima_data['longitud'] = lima_data['longitud']*-1"
   ]
  },
  {
   "cell_type": "markdown",
   "metadata": {},
   "source": [
    "#### GeoHashes"
   ]
  },
  {
   "cell_type": "code",
   "execution_count": 24,
   "metadata": {},
   "outputs": [],
   "source": [
    "for num in range(5, 10):\n",
    "    lima_data['geohash_grado{}'.format(num)] = lima_data.apply(lambda x: gh.encode(x['latitud'], x['longitud'], precision = num),axis=1)"
   ]
  },
  {
   "cell_type": "code",
   "execution_count": 25,
   "metadata": {},
   "outputs": [
    {
     "data": {
      "text/plain": [
       "La Molina            262\n",
       "Santiago de Surco     32\n",
       "San Isidro            28\n",
       "Miraflores             8\n",
       "NoEspecifica           6\n",
       "Lima Cercado           1\n",
       "Barranco               1\n",
       "Ate Vitarte            1\n",
       "La Victoria            1\n",
       "San Borja              1\n",
       "Name: Barrio, dtype: int64"
      ]
     },
     "execution_count": 25,
     "metadata": {},
     "output_type": "execute_result"
    }
   ],
   "source": [
    "top_geohashes = lima_data['geohash_grado7'].value_counts().iloc[0:7].keys().tolist()\n",
    "\n",
    "#En qué Distrito están los barrios con mayor oferta?\n",
    "lima_data[lima_data['geohash_grado7'].isin(top_geohashes)]['Barrio'].value_counts()"
   ]
  },
  {
   "cell_type": "markdown",
   "metadata": {},
   "source": [
    "#### OJO! Varios anuncios no ponen las coordenadas exactas, sino unas aledañas. Por eso se ve como si este barrio tuviera varias casas en oferta. Son las mismas 78 coordenadas!! Pero diferentes casas. Todas en la avenida La Molina, muy cerca a Molicentro. Igual pasa en Surco y en San isidro pero con algo de menos frecuencia. "
   ]
  },
  {
   "cell_type": "code",
   "execution_count": 26,
   "metadata": {},
   "outputs": [
    {
     "data": {
      "text/plain": [
       "latitud     longitud  \n",
       "-12.082020  -76.928234    78\n",
       "-12.081859  -76.928393     2\n",
       "            -76.928393     2\n",
       "-12.082020  -76.928234     2\n",
       "-12.081075  -76.928427     1\n",
       "-12.081714  -76.927820     1\n",
       "-12.081852  -76.928062     1\n",
       "-12.082040  -76.928287     1\n",
       "dtype: int64"
      ]
     },
     "execution_count": 26,
     "metadata": {},
     "output_type": "execute_result"
    }
   ],
   "source": [
    "lima_data[lima_data['geohash_grado7'] == top_geohashes[0]][['latitud','longitud']].value_counts()"
   ]
  },
  {
   "cell_type": "code",
   "execution_count": 27,
   "metadata": {},
   "outputs": [
    {
     "name": "stdout",
     "output_type": "stream",
     "text": [
      "latitud     longitud  \n",
      "-12.096333  -77.028072    88\n",
      "dtype: int64\n",
      "latitud     longitud  \n",
      "-12.074293  -76.913630    29\n",
      "-12.074288  -76.913623     2\n",
      "-12.074000  -76.913247     1\n",
      "-12.074250  -76.913516     1\n",
      "-12.074288  -76.913623     1\n",
      "-12.074651  -76.913879     1\n",
      "-12.074677  -76.913869     1\n",
      "-12.075320  -76.913009     1\n",
      "dtype: int64\n"
     ]
    }
   ],
   "source": [
    "print(lima_data[lima_data['geohash_grado7'] == top_geohashes[1]][['latitud','longitud']].value_counts())\n",
    "print(lima_data[lima_data['geohash_grado7'] == top_geohashes[2]][['latitud','longitud']].value_counts())"
   ]
  },
  {
   "cell_type": "code",
   "execution_count": null,
   "metadata": {},
   "outputs": [],
   "source": []
  },
  {
   "cell_type": "code",
   "execution_count": 41,
   "metadata": {},
   "outputs": [
    {
     "data": {
      "text/html": [
       "<div>\n",
       "<style scoped>\n",
       "    .dataframe tbody tr th:only-of-type {\n",
       "        vertical-align: middle;\n",
       "    }\n",
       "\n",
       "    .dataframe tbody tr th {\n",
       "        vertical-align: top;\n",
       "    }\n",
       "\n",
       "    .dataframe thead th {\n",
       "        text-align: right;\n",
       "    }\n",
       "</style>\n",
       "<table border=\"1\" class=\"dataframe\">\n",
       "  <thead>\n",
       "    <tr style=\"text-align: right;\">\n",
       "      <th></th>\n",
       "      <th>Barrio</th>\n",
       "      <th>Ciudad</th>\n",
       "      <th>MONEDA</th>\n",
       "      <th>Precio_cat</th>\n",
       "      <th>Area_constr_cat</th>\n",
       "    </tr>\n",
       "  </thead>\n",
       "  <tbody>\n",
       "    <tr>\n",
       "      <th>0</th>\n",
       "      <td>La Molina</td>\n",
       "      <td>Lima</td>\n",
       "      <td>S/</td>\n",
       "      <td>medio</td>\n",
       "      <td>(787.525, 1574.05]</td>\n",
       "    </tr>\n",
       "    <tr>\n",
       "      <th>1</th>\n",
       "      <td>La Molina</td>\n",
       "      <td>Lima</td>\n",
       "      <td>S/</td>\n",
       "      <td>muy caro</td>\n",
       "      <td>(787.525, 1574.05]</td>\n",
       "    </tr>\n",
       "    <tr>\n",
       "      <th>2</th>\n",
       "      <td>La Molina</td>\n",
       "      <td>Lima</td>\n",
       "      <td>S/</td>\n",
       "      <td>caro</td>\n",
       "      <td>(787.525, 1574.05]</td>\n",
       "    </tr>\n",
       "    <tr>\n",
       "      <th>3</th>\n",
       "      <td>La Molina</td>\n",
       "      <td>Lima</td>\n",
       "      <td>S/</td>\n",
       "      <td>caro</td>\n",
       "      <td>(787.525, 1574.05]</td>\n",
       "    </tr>\n",
       "    <tr>\n",
       "      <th>4</th>\n",
       "      <td>La Molina</td>\n",
       "      <td>Lima</td>\n",
       "      <td>S/</td>\n",
       "      <td>caro</td>\n",
       "      <td>(787.525, 1574.05]</td>\n",
       "    </tr>\n",
       "    <tr>\n",
       "      <th>...</th>\n",
       "      <td>...</td>\n",
       "      <td>...</td>\n",
       "      <td>...</td>\n",
       "      <td>...</td>\n",
       "      <td>...</td>\n",
       "    </tr>\n",
       "    <tr>\n",
       "      <th>5735</th>\n",
       "      <td>Jesús María</td>\n",
       "      <td>Lima</td>\n",
       "      <td>USD</td>\n",
       "      <td>muy caro</td>\n",
       "      <td>(787.525, 1574.05]</td>\n",
       "    </tr>\n",
       "    <tr>\n",
       "      <th>5736</th>\n",
       "      <td>Chaclacayo</td>\n",
       "      <td>Lima</td>\n",
       "      <td>S/</td>\n",
       "      <td>bajo</td>\n",
       "      <td>(1574.05, 2360.575]</td>\n",
       "    </tr>\n",
       "    <tr>\n",
       "      <th>5737</th>\n",
       "      <td>NoEspecifica</td>\n",
       "      <td>Lima</td>\n",
       "      <td>S/</td>\n",
       "      <td>medio</td>\n",
       "      <td>(3147.1, 3933.625]</td>\n",
       "    </tr>\n",
       "    <tr>\n",
       "      <th>5738</th>\n",
       "      <td>San Juan de Lurigancho</td>\n",
       "      <td>Lima</td>\n",
       "      <td>USD</td>\n",
       "      <td>bajo</td>\n",
       "      <td>(7866.25, 8652.775]</td>\n",
       "    </tr>\n",
       "    <tr>\n",
       "      <th>5739</th>\n",
       "      <td>Pachacamac</td>\n",
       "      <td>Lima</td>\n",
       "      <td>S/</td>\n",
       "      <td>muy caro</td>\n",
       "      <td>(1574.05, 2360.575]</td>\n",
       "    </tr>\n",
       "  </tbody>\n",
       "</table>\n",
       "<p>5740 rows × 5 columns</p>\n",
       "</div>"
      ],
      "text/plain": [
       "                      Barrio Ciudad MONEDA Precio_cat      Area_constr_cat\n",
       "0                  La Molina   Lima     S/      medio   (787.525, 1574.05]\n",
       "1                  La Molina   Lima     S/   muy caro   (787.525, 1574.05]\n",
       "2                  La Molina   Lima     S/       caro   (787.525, 1574.05]\n",
       "3                  La Molina   Lima     S/       caro   (787.525, 1574.05]\n",
       "4                  La Molina   Lima     S/       caro   (787.525, 1574.05]\n",
       "...                      ...    ...    ...        ...                  ...\n",
       "5735             Jesús María   Lima    USD   muy caro   (787.525, 1574.05]\n",
       "5736              Chaclacayo   Lima     S/       bajo  (1574.05, 2360.575]\n",
       "5737            NoEspecifica   Lima     S/      medio   (3147.1, 3933.625]\n",
       "5738  San Juan de Lurigancho   Lima    USD       bajo  (7866.25, 8652.775]\n",
       "5739              Pachacamac   Lima     S/   muy caro  (1574.05, 2360.575]\n",
       "\n",
       "[5740 rows x 5 columns]"
      ]
     },
     "execution_count": 41,
     "metadata": {},
     "output_type": "execute_result"
    }
   ],
   "source": [
    "#Solo los objects a encodear. Para los Geohash la misma librería tiene su feature de encode. \n",
    "lima_data.select_dtypes(include='object').filter(regex='^(?!geohash*)')"
   ]
  },
  {
   "cell_type": "code",
   "execution_count": null,
   "metadata": {},
   "outputs": [],
   "source": []
  }
 ],
 "metadata": {
  "kernelspec": {
   "display_name": "Python 3",
   "language": "python",
   "name": "python3"
  },
  "language_info": {
   "codemirror_mode": {
    "name": "ipython",
    "version": 3
   },
   "file_extension": ".py",
   "mimetype": "text/x-python",
   "name": "python",
   "nbconvert_exporter": "python",
   "pygments_lexer": "ipython3",
   "version": "3.8.5"
  }
 },
 "nbformat": 4,
 "nbformat_minor": 4
}
